{
  "nbformat": 4,
  "nbformat_minor": 0,
  "metadata": {
    "colab": {
      "name": "TED Downloader automation.ipynb",
      "provenance": [],
      "collapsed_sections": []
    },
    "kernelspec": {
      "name": "python3",
      "display_name": "Python 3"
    },
    "language_info": {
      "name": "python"
    }
  },
  "cells": [
    {
      "cell_type": "code",
      "metadata": {
        "id": "T490YKyKyTyp"
      },
      "source": [
        "import requests "
      ],
      "execution_count": 2,
      "outputs": []
    },
    {
      "cell_type": "code",
      "metadata": {
        "id": "JGdkfM-HyZLQ"
      },
      "source": [
        "from bs4 import BeautifulSoup \n",
        "import re"
      ],
      "execution_count": 3,
      "outputs": []
    },
    {
      "cell_type": "code",
      "metadata": {
        "id": "xvmoWpwwz4wP"
      },
      "source": [
        "url = 'https://www.ted.com/talks/jeffrey_a_lockwood_are_locust_plagues_unstoppable'"
      ],
      "execution_count": 7,
      "outputs": []
    },
    {
      "cell_type": "code",
      "metadata": {
        "colab": {
          "base_uri": "https://localhost:8080/"
        },
        "id": "pwn3IhLXyhS1",
        "outputId": "1a37d0da-0675-4d4b-9911-82b021bbeafd"
      },
      "source": [
        "r = requests.get(url)\n",
        "print(\"Download start\")"
      ],
      "execution_count": 8,
      "outputs": [
        {
          "output_type": "stream",
          "name": "stdout",
          "text": [
            "Download start\n"
          ]
        }
      ]
    },
    {
      "cell_type": "code",
      "metadata": {
        "colab": {
          "base_uri": "https://localhost:8080/"
        },
        "id": "2KCkgruUz76p",
        "outputId": "3e8a0844-1c1d-4f36-a6e1-6881d598f32c"
      },
      "source": [
        "r.status_code"
      ],
      "execution_count": 9,
      "outputs": [
        {
          "output_type": "execute_result",
          "data": {
            "text/plain": [
              "200"
            ]
          },
          "metadata": {},
          "execution_count": 9
        }
      ]
    },
    {
      "cell_type": "code",
      "metadata": {
        "id": "X5_yuLLdzXx1"
      },
      "source": [
        "soup = BeautifulSoup(r.content,features='lxml')"
      ],
      "execution_count": 10,
      "outputs": []
    },
    {
      "cell_type": "code",
      "metadata": {
        "id": "QpYqESwPz1jB"
      },
      "source": [
        "for val in soup.find_all(\"script\"):\n",
        "  if re.search(\"talkPage.init\",str(val)) is not None:\n",
        "    result = str(val)"
      ],
      "execution_count": 11,
      "outputs": []
    },
    {
      "cell_type": "code",
      "metadata": {
        "id": "yoxr7IIP0Tc-"
      },
      "source": [
        "result_mp4 = re.search(\"(?P<url>https?://[^\\s]+)(mp4)\", result).group(\"url\")"
      ],
      "execution_count": 12,
      "outputs": []
    },
    {
      "cell_type": "code",
      "metadata": {
        "colab": {
          "base_uri": "https://localhost:8080/",
          "height": 239
        },
        "id": "hSvQhYzh04Jp",
        "outputId": "2a032c61-f1d9-4954-dd3f-16e0eb21e27a"
      },
      "source": [
        "result_mp4"
      ],
      "execution_count": 13,
      "outputs": [
        {
          "output_type": "execute_result",
          "data": {
            "application/vnd.google.colaboratory.intrinsic+json": {
              "type": "string"
            },
            "text/plain": [
              "'https://download.ted.com/products/142060.mp4?apikey=acme-roadrunner\",\"medium\":\"https://download.ted.com/products/142061.mp4?apikey=acme-roadrunner\",\"high\":\"https://download.ted.com/products/142062.mp4?apikey=acme-roadrunner\"},\"subtitledDownloads\":null,\"videoDownloads\":[{\"url\":\"https://download.ted.com/products/142060.mp4?apikey=acme-roadrunner\",\"height\":180,\"languages\":[{\"code\":\"en\",\"name\":\"English\"},{\"code\":\"hi\",\"name\":\"Hindi\"}]},{\"url\":\"https://download.ted.com/products/142061.mp4?apikey=acme-roadrunner\",\"height\":480,\"languages\":[{\"code\":\"en\",\"name\":\"English\"},{\"code\":\"hi\",\"name\":\"Hindi\"}]},{\"url\":\"https://download.ted.com/products/142062.mp4?apikey=acme-roadrunner\",\"height\":1080,\"languages\":[{\"code\":\"en\",\"name\":\"English\"},{\"code\":\"hi\",\"name\":\"Hindi\"}]}],\"audioDownload\":null},\"duration\":326,\"event\":\"TED-Ed\",\"institute_partner_name\":null,\"salon_partner_name\":null,\"event_badge\":null,\"is_featured\":false,\"hero\":\"https://s3.amazonaws.com/talkstar-photos/uploads/254bd394-9473-4ef5-bf3e-7a15f2747569/locusttextless.jpg\",\"hero_load\":\"https://pi.tedcdn.com/r/talkstar-photos.s3.amazonaws.com/uploads/254bd394-9473-4ef5-bf3e-7a15f2747569/locusttextless.jpg?q=50&w=15\",\"id\":\"83364\",\"player_talks\":[{\"id\":\"83364\",\"mediaIdentifier\":\"JeffreyLockwood_Locusts_2020E\",\"mediaProjectVersionIdentifier\":\"consus-pm7320\",\"duration\":326,\"languages\":[{\"languageName\":\"English\",\"endonym\":\"English\",\"languageCode\":\"en\",\"ianaCode\":\"en\",\"isRtl\":false},{\"languageName\":\"Hindi\",\"endonym\":\"हिन्दी\",\"languageCode\":\"hi\",\"ianaCode\":\"hi\",\"isRtl\":false},{\"languageName\":\"Spanish\",\"endonym\":\"Español\",\"languageCode\":\"es\",\"ianaCode\":\"es\",\"isRtl\":false}],\"nativeLanguage\":\"en\",\"isSubtitleRequired\":false,\"resources\":{\"h264\":[{\"bitrate\":1200,\"file\":\"https://py.tedcdn.com/consus/projects/00/56/98/001/products/2020e-jeffrey-a-lockwood-locusts-001-fallback-9f0203cb33c940dae04499f3a753a576-1200k.'"
            ]
          },
          "metadata": {},
          "execution_count": 13
        }
      ]
    },
    {
      "cell_type": "code",
      "metadata": {
        "id": "xViMq1PW0tAY"
      },
      "source": [
        "mp4_url = result_mp4.split('\"')[0]"
      ],
      "execution_count": 14,
      "outputs": []
    },
    {
      "cell_type": "code",
      "metadata": {
        "colab": {
          "base_uri": "https://localhost:8080/",
          "height": 35
        },
        "id": "j2BMZ8st09X4",
        "outputId": "17aa3efd-a094-48d9-ce39-a3ad043f0d48"
      },
      "source": [
        "mp4_url"
      ],
      "execution_count": 15,
      "outputs": [
        {
          "output_type": "execute_result",
          "data": {
            "application/vnd.google.colaboratory.intrinsic+json": {
              "type": "string"
            },
            "text/plain": [
              "'https://download.ted.com/products/142060.mp4?apikey=acme-roadrunner'"
            ]
          },
          "metadata": {},
          "execution_count": 15
        }
      ]
    },
    {
      "cell_type": "code",
      "metadata": {
        "colab": {
          "base_uri": "https://localhost:8080/"
        },
        "id": "L1KLTNvr0-WD",
        "outputId": "74b2098a-1c33-4127-ecad-3557ca493340"
      },
      "source": [
        "print(\"Downloading..... video from TED\")"
      ],
      "execution_count": 16,
      "outputs": [
        {
          "output_type": "stream",
          "name": "stdout",
          "text": [
            "Downloading..... video from TED\n"
          ]
        }
      ]
    },
    {
      "cell_type": "code",
      "metadata": {
        "id": "Q5OsAzzz1Iii"
      },
      "source": [
        "file_name = mp4_url.split(\"/\")[len(mp4_url.split(\"/\"))-1].split('.')[0]"
      ],
      "execution_count": 23,
      "outputs": []
    },
    {
      "cell_type": "code",
      "metadata": {
        "colab": {
          "base_uri": "https://localhost:8080/",
          "height": 35
        },
        "id": "Ev9ee7wy1aOO",
        "outputId": "6654135a-1769-4efc-9f69-1f20e0c0f334"
      },
      "source": [
        "file_name"
      ],
      "execution_count": 24,
      "outputs": [
        {
          "output_type": "execute_result",
          "data": {
            "application/vnd.google.colaboratory.intrinsic+json": {
              "type": "string"
            },
            "text/plain": [
              "'142060'"
            ]
          },
          "metadata": {},
          "execution_count": 24
        }
      ]
    },
    {
      "cell_type": "code",
      "metadata": {
        "colab": {
          "base_uri": "https://localhost:8080/"
        },
        "id": "_DmJfw_CQ5UP",
        "outputId": "5d953c57-10fa-4d55-8030-c6ae630be323"
      },
      "source": [
        "print(\"Download file name : \",file_name)"
      ],
      "execution_count": 25,
      "outputs": [
        {
          "output_type": "stream",
          "name": "stdout",
          "text": [
            "Download file name :  142060\n"
          ]
        }
      ]
    },
    {
      "cell_type": "code",
      "metadata": {
        "colab": {
          "base_uri": "https://localhost:8080/"
        },
        "id": "ncDYNV51RNoE",
        "outputId": "f52b78e7-779f-4689-e8a5-c5d0821fabc9"
      },
      "source": [
        "with open(file_name+\".mp4\",'wb') as f:\n",
        "  f.write(r.content)\n",
        "print(\"Download finished\")"
      ],
      "execution_count": 28,
      "outputs": [
        {
          "output_type": "stream",
          "name": "stdout",
          "text": [
            "Download finished\n"
          ]
        }
      ]
    }
  ]
}